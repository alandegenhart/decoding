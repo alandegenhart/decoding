{
 "cells": [
  {
   "cell_type": "markdown",
   "metadata": {},
   "source": [
    "## Feature cleaning\n",
    "This notebook is/was a testbed for cleaning the entire dataset.  Functions were off-loaded to the 'housing' module as they were completed."
   ]
  },
  {
   "cell_type": "code",
   "execution_count": 1,
   "metadata": {},
   "outputs": [],
   "source": [
    "# Setup environment and import standard modules\n",
    "import sys\n",
    "import os\n",
    "import numpy as np\n",
    "import pandas as pd\n",
    "from scipy import stats\n",
    "\n",
    "# Set up plotting (inline)\n",
    "import matplotlib as mpl\n",
    "import matplotlib.pyplot as plt\n",
    "%matplotlib inline\n",
    "%config InlineBackend.figure_format = 'retina'\n",
    "\n",
    "# Import custom modules\n",
    "#sys.path.append(os.path.join(os.getcwd(), 'modules'))\n",
    "#import plottools as pt\n",
    "import housing\n",
    "\n",
    "# Autoreload (see https://ipython.readthedocs.io/en/stable/config/extensions/autoreload.html)\n",
    "%load_ext autoreload\n",
    "%autoreload"
   ]
  },
  {
   "cell_type": "markdown",
   "metadata": {},
   "source": [
    "The features with NaN values:\n",
    "* `MSZoning` (4) -- \n",
    "* `LotFrontage` (486)\n",
    "* `Alley` (2721)\n",
    "* `Utilities` (2)\n",
    "* `Exterior1st` (1)\n",
    "* `Exterior2nd` (1)\n",
    "* `MasVnrType` (24)\n",
    "* `MasVnrArea` (23)\n",
    "* `BsmtQual` (81)\n",
    "* `BsmtCond` (82)\n",
    "* `BsmtExposure` (82)\n",
    "* `BsmtFinType1` (79)\n",
    "* `BsmtFinSF1` (1)\n",
    "* `BsmtFinType2` (80)\n",
    "* `BsmtFinSF2` (1)\n",
    "* `BsmtUnfSF` (1)\n",
    "* `TotalBsmtSF` (1)\n",
    "* `Electrical` (1)\n",
    "* `BsmtFullBath` (2)\n",
    "* `BsmtHalfBath` (2)\n",
    "* `KitchenQual` (1)\n",
    "* `Functional` (2)\n",
    "* `FireplaceQu` (1420)\n",
    "* `GarageType` (157)\n",
    "* `GarageYrBlt` (159)\n",
    "* `GarageFinish` (159)\n",
    "* `GarageCars` (1)\n",
    "* `GarageArea` (1)\n",
    "* `GarageQual` (159)\n",
    "* `GarageCond` (159)\n",
    "* `PoolQC` (2909)\n",
    "* `Fence` (2348)\n",
    "* `MiscFeature` (2814)\n",
    "* `SaleType` (1)\n",
    "\n",
    "It would probably be helpful to define two classes of features: categorical and numerical.  This can be used to handle missing values.  Missing values for categorical can be defined as 'undef', while missing numerical values can be set to a default/missing value.\n",
    "\n",
    "Other cleaning:\n",
    "* Condition1 and Condition2 should be merged\n",
    "* Exterior1st and Exterior2nd should be merged\n",
    "* Add feature for basement (specifies whether or not there is a basement)\n",
    "* Merge 'BsmtFinSF1' and 'BsmtFinSF2' -- probably create a set of numerical variables indicating the SF of each\n",
    "* Handle garage features\n",
    "* Handle pool features\n",
    "* Handle misc features"
   ]
  },
  {
   "cell_type": "code",
   "execution_count": 371,
   "metadata": {},
   "outputs": [
    {
     "name": "stderr",
     "output_type": "stream",
     "text": [
      "/Users/alandegenhart/anaconda3/envs/analysis/lib/python3.7/site-packages/ipykernel_launcher.py:54: SettingWithCopyWarning: \n",
      "A value is trying to be set on a copy of a slice from a DataFrame\n",
      "\n",
      "See the caveats in the documentation: http://pandas.pydata.org/pandas-docs/stable/indexing.html#indexing-view-versus-copy\n",
      "/Users/alandegenhart/anaconda3/envs/analysis/lib/python3.7/site-packages/ipykernel_launcher.py:59: SettingWithCopyWarning: \n",
      "A value is trying to be set on a copy of a slice from a DataFrame\n",
      "\n",
      "See the caveats in the documentation: http://pandas.pydata.org/pandas-docs/stable/indexing.html#indexing-view-versus-copy\n"
     ]
    },
    {
     "name": "stdout",
     "output_type": "stream",
     "text": [
      "Series([], dtype: int64)\n",
      "Train data size: (1460, 209)\n",
      "Test data size: (1459, 208)\n"
     ]
    },
    {
     "name": "stderr",
     "output_type": "stream",
     "text": [
      "/Users/alandegenhart/anaconda3/envs/analysis/lib/python3.7/site-packages/ipykernel_launcher.py:200: SettingWithCopyWarning: \n",
      "A value is trying to be set on a copy of a slice from a DataFrame.\n",
      "Try using .loc[row_indexer,col_indexer] = value instead\n",
      "\n",
      "See the caveats in the documentation: http://pandas.pydata.org/pandas-docs/stable/indexing.html#indexing-view-versus-copy\n"
     ]
    }
   ],
   "source": [
    "# Load data\n",
    "df_train, df_test = housing.load_proc_datasets()\n",
    "\n",
    "# Display data shape\n",
    "print('Train data size: {}'.format(df_train.shape))\n",
    "print('Test data size: {}'.format(df_test.shape))"
   ]
  }
 ],
 "metadata": {
  "kernelspec": {
   "display_name": "Python 3",
   "language": "python",
   "name": "python3"
  },
  "language_info": {
   "codemirror_mode": {
    "name": "ipython",
    "version": 3
   },
   "file_extension": ".py",
   "mimetype": "text/x-python",
   "name": "python",
   "nbconvert_exporter": "python",
   "pygments_lexer": "ipython3",
   "version": "3.7.2"
  }
 },
 "nbformat": 4,
 "nbformat_minor": 2
}
