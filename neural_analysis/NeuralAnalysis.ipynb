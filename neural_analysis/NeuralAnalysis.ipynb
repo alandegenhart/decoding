{
 "cells": [
  {
   "cell_type": "code",
   "execution_count": 1,
   "metadata": {},
   "outputs": [
    {
     "name": "stdout",
     "output_type": "stream",
     "text": [
      "Invoking __int__.py for neural_analysis.\n"
     ]
    }
   ],
   "source": [
    "# Setup environment and import standard modules\n",
    "import sys\n",
    "import os\n",
    "import numpy as np\n",
    "\n",
    "# Import custom modules\n",
    "sys.path.append(os.path.join(os.getcwd(), 'modules'))\n",
    "import plottools as pt\n",
    "import neural_analysis as na\n",
    "\n",
    "# Autoreload (see https://ipython.readthedocs.io/en/stable/config/extensions/autoreload.html)\n",
    "%load_ext autoreload\n",
    "%autoreload"
   ]
  },
  {
   "cell_type": "code",
   "execution_count": 2,
   "metadata": {},
   "outputs": [],
   "source": [
    "# Load data\n",
    "df = na.proc.load_mgr_data()"
   ]
  },
  {
   "cell_type": "code",
   "execution_count": 3,
   "metadata": {},
   "outputs": [],
   "source": [
    "# Calculate movement onset\n",
    "na.proc.calc_movement_onset(df)"
   ]
  },
  {
   "cell_type": "code",
   "execution_count": 25,
   "metadata": {},
   "outputs": [],
   "source": [
    "# Plot reach trajectories and speed profile\n",
    "na.plot.reach_trajectories(df)\n",
    "na.plot.speed_profile(df)\n",
    "\n",
    "# To-do: Make these in-line figures?"
   ]
  },
  {
   "cell_type": "markdown",
   "metadata": {},
   "source": [
    "**Prototpying binning**\n",
    "\n",
    "Here we want to:\n",
    "* Iterate over each trial\n",
    "* Bin the trials over some pre-define time grid\n",
    "\n",
    "The time grid should be the same for each trial, and be determined by the time variable for that trial.\n",
    "\n",
    "Other considerations:\n",
    "* We do not know the valid channel/sort combinations beforehand\n",
    "* The binning function should take a list of channel/sort combinations and return an array of binned spike times for each channel/sort.\n",
    "* If the channel/sort is not found, the corresponding row in the binned data should still exist (i.e., be zeros)"
   ]
  },
  {
   "cell_type": "code",
   "execution_count": 39,
   "metadata": {},
   "outputs": [
    {
     "name": "stdout",
     "output_type": "stream",
     "text": [
      "Number of units: 142\n",
      "[(1, 1), (2, 1), (3, 1), (3, 2), (4, 1), (5, 1), (6, 1), (6, 2), (7, 1), (7, 2), (8, 1), (8, 2), (9, 1), (10, 1), (12, 1), (12, 2), (13, 1), (13, 2), (14, 1), (15, 1), (15, 2), (16, 1), (16, 2), (18, 1), (19, 1), (19, 2), (20, 1), (20, 2), (21, 1), (22, 1), (23, 1), (23, 2), (24, 1), (25, 1), (26, 1), (27, 1), (28, 1), (28, 2), (29, 1), (30, 1), (30, 2), (31, 1), (31, 2), (32, 1), (32, 2), (34, 1), (35, 1), (35, 2), (36, 1), (37, 1), (37, 2), (38, 1), (38, 2), (40, 1), (40, 2), (41, 1), (41, 2), (42, 1), (43, 1), (43, 2), (44, 1), (45, 1), (46, 1), (47, 1), (48, 1), (48, 2), (49, 1), (50, 1), (51, 1), (52, 1), (52, 2), (53, 1), (53, 2), (54, 1), (54, 2), (55, 1), (55, 2), (56, 1), (57, 1), (57, 2), (58, 1), (58, 2), (59, 1), (60, 1), (61, 1), (62, 1), (62, 2), (63, 1), (63, 2), (64, 1), (65, 1), (65, 2), (66, 1), (66, 2), (66, 3), (67, 1), (67, 2), (68, 1), (68, 2), (68, 3), (69, 1), (70, 1), (70, 2), (71, 1), (72, 1), (74, 1), (75, 1), (75, 2), (76, 1), (76, 2), (77, 1), (77, 2), (77, 3), (78, 1), (78, 2), (79, 1), (80, 1), (80, 2), (81, 1), (81, 2), (82, 1), (83, 1), (83, 2), (86, 1), (86, 2), (87, 1), (88, 1), (88, 2), (88, 3), (89, 1), (90, 1), (90, 2), (91, 1), (91, 2), (92, 1), (92, 2), (93, 1), (93, 2), (94, 1), (94, 2), (95, 1), (96, 1)]\n"
     ]
    }
   ],
   "source": [
    "# Specify parameters\n",
    "bin_width = 20\n",
    "bin_start = 0\n",
    "kin_offset = 150\n",
    "valid_sort = range(1, 31)\n",
    "\n",
    "# Find the list of valid sort/channel combinations.  Can do this using a set.\n",
    "all_units = set()\n",
    "for index, trial in df.iterrows():\n",
    "   all_units.update(\n",
    "       [(c, s) for c, s in zip(trial.spike_channel, trial.spike_sort)\n",
    "            if s in valid_sort\n",
    "       ]\n",
    "   )\n",
    "\n",
    "all_units = sorted(all_units)  # Note -- converts set to a list\n",
    "n_units = len(all_units)\n",
    "print('Number of units: {}'.format(n_units))\n",
    "print(all_units)"
   ]
  },
  {
   "cell_type": "code",
   "execution_count": 82,
   "metadata": {},
   "outputs": [],
   "source": [
    "def bin_data(x, t, t_onset, t_offset, mode='mean'):\n",
    "    \"\"\"\n",
    "    Bin data.\n",
    "    \n",
    "    Inputs:\n",
    "    :x\n",
    "    :t\n",
    "    :t_bin\n",
    "    \n",
    "    Note: this function expects column vector convention, where rows are\n",
    "    dimensions, and columns are observations (in this case time).\n",
    "    \"\"\"\n",
    "    # Input is a 1D array, expand to 2D\n",
    "    if x.ndim == 1:        \n",
    "        x = np.expand_dims(x, 0)\n",
    "    \n",
    "    # Initialize binned data matrix\n",
    "    n_dim = x.shape[0]\n",
    "    n_bins = len(t_onset)\n",
    "    x_bin = np.zeros([n_dim, n_bins])\n",
    "    \n",
    "    # Iterate over bins\n",
    "    for i in range(n_bins):\n",
    "        # Determine time mask\n",
    "        mask = (t >= t_onset[i]) & (t < t_offset[i])\n",
    "        \n",
    "        # Bin data depending on the mode\n",
    "        if mode is 'mean':\n",
    "            x_bin[:, i] = x[:, mask].mean(1)\n",
    "        elif mode is 'sum':\n",
    "            x_bin[:, i] = x[:, mask].sum(1)\n",
    "    \n",
    "    return x_bin\n"
   ]
  },
  {
   "cell_type": "code",
   "execution_count": 84,
   "metadata": {},
   "outputs": [
    {
     "name": "stdout",
     "output_type": "stream",
     "text": [
      "[[  10.9495025    11.02827758   11.10702512 ...   17.80126249\n",
      "    17.800959     17.80089692]\n",
      " [ -15.64970687  -15.69589775  -15.72446795 ...  138.7860194\n",
      "   138.78644389  138.78653764]\n",
      " [-103.72519957 -103.98907834 -104.20955602 ... -133.57320145\n",
      "  -133.5735953  -133.57367789]]\n",
      "[[  14.72791857   30.28043224   38.11672064   36.31756417   28.1754685\n",
      "    22.65002347   19.32573762]\n",
      " [  -1.74477179   49.11989172   91.3173664   116.8075731   131.17361906\n",
      "   136.18113486  137.97336785]\n",
      " [-105.28905283 -102.93420178 -109.31785784 -118.82705957 -127.45903682\n",
      "  -130.53653906 -132.30387222]]\n"
     ]
    }
   ],
   "source": [
    "# Get data from a single trial for debugging purposes\n",
    "trial = df.iloc[0]\n",
    "\n",
    "# Get time for the current trial and define the bin times\n",
    "t = trial.time\n",
    "onset_idx = trial.onset_idx\n",
    "t = t - t[onset_idx]  # Correct for movement onset\n",
    "\n",
    "# Define bin times.  The '+1' here allows for the end of the last bin to\n",
    "# occur at the last time point.\n",
    "t_bin = np.arange(bin_start, t[-1] + 1, bin_width)\n",
    "t_onset = t_bin[0:-1]\n",
    "t_offset = t_bin[1:]\n",
    "\n",
    "# Initialize spike count matrix\n",
    "n_bins = len(t_onset)\n",
    "X = np.zeros([n_units, n_bins])\n",
    "\n",
    "# Iterate over all channel/sort combinations and bin the spike times\n",
    "for ch, srt, st in zip(trial.spike_channel, trial.spike_sort, trial.spike_times):\n",
    "    # Check to make sure channel/sort is in the list of valid units\n",
    "    if (ch, srt) not in all_units or st is None:\n",
    "        continue\n",
    "    \n",
    "    # In order to bin the spike data, first convert it into a raster with ms\n",
    "    # resolution.  To do this, the spike times need to be converted into an index.\n",
    "    s_ind = st - np.min(st)  # Now s_ind[0] is the first spike\n",
    "    raster = np.zeros(np.max(s_ind) + 1)\n",
    "    raster[s_ind] = 1\n",
    "    t_raster = np.arange(len(raster)) + np.min(st) - trial.time[onset_idx]\n",
    "\n",
    "    # Bin spike times\n",
    "    binned_spikes = bin_data(raster, t_raster, t_onset, t_offset, 'sum')\n",
    "    \n",
    "    # Add spikes to matrix\n",
    "    mask = np.array([list(v) == [ch, srt] for v in all_units])\n",
    "    X[mask, :] = binned_spikes\n",
    "\n",
    "# Bin kinematic data (all dimensions)\n",
    "K_bin = bin_data(trial.pos, trial.time - trial.time[trial.onset_idx], t_onset, t_offset, 'mean')\n",
    "print(trial.pos)\n",
    "print(K)\n",
    "\n",
    "# Next step -- plot this to make sure that the binning function is working as expected"
   ]
  },
  {
   "cell_type": "code",
   "execution_count": 107,
   "metadata": {},
   "outputs": [
    {
     "data": {
      "text/plain": [
       "(1, 1)"
      ]
     },
     "execution_count": 107,
     "metadata": {},
     "output_type": "execute_result"
    }
   ],
   "source": [
    "np.array(all_units)\n",
    "np.isin(all_units, [ch, srt]).all(1)\n",
    "all_units[0]"
   ]
  },
  {
   "cell_type": "code",
   "execution_count": 46,
   "metadata": {},
   "outputs": [
    {
     "data": {
      "text/plain": [
       "(1, 1)"
      ]
     },
     "execution_count": 46,
     "metadata": {},
     "output_type": "execute_result"
    }
   ],
   "source": [
    "# Test binning\n",
    "\n",
    "# Define binning parameters\n",
    "bin_width = 100\n",
    "bin_start = 0\n",
    "kin_offset = 150\n",
    "valid_sort = range(1, 31)\n",
    "\n",
    "# Get data from a single trial for debugging purposes\n",
    "trial = df.iloc[0]\n",
    "\n",
    "# Get time for the current trial and define the bin times\n",
    "t = trial.time\n",
    "onset_idx = trial.onset_idx\n",
    "t = t - t[onset_idx]  # Correct for movement onset\n",
    "\n",
    "# Define bin times.  The '+1' here allows for the end of the last bin to\n",
    "# occur at the last time point.\n",
    "t_bin = np.arange(bin_start, t[-1] + 1, bin_width)\n",
    "t_onset = t_bin[0:-1]\n",
    "t_offset = t_bin[1:]\n",
    "\n",
    "# Get spike data\n",
    "ch = trial.spike_channel[1]\n",
    "srt = trial.spike_sort[1]\n",
    "st = trial.spike_times[1]\n",
    "\n",
    "[f is (1, 1) for f in all_units]\n",
    "all_units[0]"
   ]
  },
  {
   "cell_type": "code",
   "execution_count": 66,
   "metadata": {},
   "outputs": [
    {
     "data": {
      "text/plain": [
       "array([ True, False, False, False, False, False, False, False, False,\n",
       "       False, False, False, False, False, False, False, False, False,\n",
       "       False, False, False, False, False, False, False, False, False,\n",
       "       False, False, False, False, False, False, False, False, False,\n",
       "       False, False, False, False, False, False, False, False, False,\n",
       "       False, False, False, False, False, False, False, False, False,\n",
       "       False, False, False, False, False, False, False, False, False,\n",
       "       False, False, False, False, False, False, False, False, False,\n",
       "       False, False, False, False, False, False, False, False, False,\n",
       "       False, False, False, False, False, False, False, False, False,\n",
       "       False, False, False, False, False, False, False, False, False,\n",
       "       False, False, False, False, False, False, False, False, False,\n",
       "       False, False, False, False, False, False, False, False, False,\n",
       "       False, False, False, False, False, False, False, False, False,\n",
       "       False, False, False, False, False, False, False, False, False,\n",
       "       False, False, False, False, False, False, False])"
      ]
     },
     "execution_count": 66,
     "metadata": {},
     "output_type": "execute_result"
    }
   ],
   "source": [
    "# Get spike data\n",
    "ch = trial.spike_channel[1]\n",
    "srt = trial.spike_sort[1]\n",
    "st = trial.spike_times[1]\n",
    "\n",
    "np.array([list(v) == [ch, srt] for v in all_units])"
   ]
  }
 ],
 "metadata": {
  "kernelspec": {
   "display_name": "Python 3",
   "language": "python",
   "name": "python3"
  },
  "language_info": {
   "codemirror_mode": {
    "name": "ipython",
    "version": 3
   },
   "file_extension": ".py",
   "mimetype": "text/x-python",
   "name": "python",
   "nbconvert_exporter": "python",
   "pygments_lexer": "ipython3",
   "version": "3.7.2"
  }
 },
 "nbformat": 4,
 "nbformat_minor": 4
}
