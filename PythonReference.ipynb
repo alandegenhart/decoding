{
 "cells": [
  {
   "cell_type": "code",
   "execution_count": null,
   "metadata": {},
   "outputs": [],
   "source": [
    "# Time a process\n",
    "import timeit\n",
    "start = timeit.default_timer()\n",
    "end = timeit.default_timer()\n",
    "print('Elapsed time: {}'.format(end - start))\n",
    "\n",
    "# Replacement for MATLAB's 'ismember()' function\n",
    "mask = np.in1d(A, B)"
   ]
  }
 ],
 "metadata": {
  "kernelspec": {
   "display_name": "Python 3",
   "language": "python",
   "name": "python3"
  },
  "language_info": {
   "codemirror_mode": {
    "name": "ipython",
    "version": 3
   },
   "file_extension": ".py",
   "mimetype": "text/x-python",
   "name": "python",
   "nbconvert_exporter": "python",
   "pygments_lexer": "ipython3",
   "version": "3.7.4"
  }
 },
 "nbformat": 4,
 "nbformat_minor": 4
}
